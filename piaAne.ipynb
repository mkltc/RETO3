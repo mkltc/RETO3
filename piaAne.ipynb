{
 "cells": [
  {
   "cell_type": "markdown",
   "metadata": {},
   "source": [
    "# CLUSTERING \n",
    "\n"
   ]
  },
  {
   "cell_type": "code",
   "execution_count": 15,
   "metadata": {},
   "outputs": [
    {
     "name": "stdout",
     "output_type": "stream",
     "text": [
      "Tipos de datos:\n",
      "Date             datetime64[ns]\n",
      "CO(GT)                  float64\n",
      "PT08.S1(CO)               Int64\n",
      "NMHC(GT)                  Int64\n",
      "C6H6(GT)                float64\n",
      "PT08.S2(NMHC)             Int64\n",
      "NOx(GT)                   Int64\n",
      "PT08.S3(NOx)              Int64\n",
      "NO2(GT)                   Int64\n",
      "PT08.S4(NO2)              Int64\n",
      "PT08.S5(O3)               Int64\n",
      "T                       float64\n",
      "RH                      float64\n",
      "AH                      float64\n",
      "DiaSemana                 Int64\n",
      "PeriodoDia               object\n",
      "dtype: object\n",
      "\n",
      "Primeros registros:\n",
      "        Date  CO(GT)  PT08.S1(CO)  NMHC(GT)  C6H6(GT)  PT08.S2(NMHC)  NOx(GT)  \\\n",
      "0 2004-03-10       3         1360       150        12           1046      166   \n",
      "1 2004-03-10       2         1292       112         9            955      103   \n",
      "2 2004-03-10       2         1402        88         9            939      131   \n",
      "3 2004-03-10       2         1376        80         9            948      172   \n",
      "4 2004-03-10       2         1272        51         6            836      131   \n",
      "\n",
      "   PT08.S3(NOx)  NO2(GT)  PT08.S4(NO2)  PT08.S5(O3)  T  RH  AH  DiaSemana  \\\n",
      "0          1056      113          1692         1268 14  49   1          2   \n",
      "1          1174       92          1559          972 13  48   1          2   \n",
      "2          1140      114          1555         1074 12  54   1          2   \n",
      "3          1092      122          1584         1203 11  60   1          2   \n",
      "4          1205      116          1490         1110 11  60   1          2   \n",
      "\n",
      "  PeriodoDia  \n",
      "0      Noche  \n",
      "1      Noche  \n",
      "2      Noche  \n",
      "3      Noche  \n",
      "4      Noche  \n"
     ]
    }
   ],
   "source": [
    "import pandas as pd\n",
    "\n",
    "# Cargar los datos\n",
    "df = pd.read_csv('data/AirQuality.csv', delimiter=';')\n",
    "\n",
    "# Convertir las fechas y horas\n",
    "df['Date'] = pd.to_datetime(df['Date'], format='%d/%m/%Y', errors='coerce')\n",
    "df['Time'] = pd.to_datetime(df['Time'], format='%H.%M.%S', errors='coerce').dt.time\n",
    "\n",
    "# Mapear días de la semana a números\n",
    "df['DiaSemana'] = df['Date'].dt.day_name()\n",
    "dias_semana_map = {\n",
    "    'Monday': 0, 'Tuesday': 1, 'Wednesday': 2,\n",
    "    'Thursday': 3, 'Friday': 4, 'Saturday': 5, 'Sunday': 6\n",
    "}\n",
    "df['DiaSemana'] = df['DiaSemana'].map(dias_semana_map)\n",
    "\n",
    "# Categorizar por partes del día\n",
    "def time_to_period(hour):\n",
    "    if 6 <= hour < 12:\n",
    "        return 'Dia'\n",
    "    elif 12 <= hour < 18:\n",
    "        return 'Tarde'\n",
    "    else:\n",
    "        return 'Noche'\n",
    "\n",
    "df['PeriodoDia'] = df['Time'].apply(lambda t: time_to_period(t.hour) if pd.notnull(t) else None)\n",
    "\n",
    "# Reemplazar comas por puntos y convertir columnas a float\n",
    "columns_to_convert = ['CO(GT)', 'C6H6(GT)', 'T', 'RH', 'AH']\n",
    "for col in columns_to_convert:\n",
    "    df[col] = df[col].str.replace(',', '.', regex=False).astype(float)\n",
    "\n",
    "# Convertir todas las columnas numéricas a enteros si no tienen decimales\n",
    "for col in df.select_dtypes(include=['float', 'int']).columns:\n",
    "    if df[col].dropna().mod(1).eq(0).all():  # Verifica si todos los valores son enteros\n",
    "        df[col] = df[col].astype('Int64')  # Convierte a entero compatible con NaN\n",
    "\n",
    "# Configuración para que no muestre decimales en pandas\n",
    "pd.set_option('display.float_format', '{:.0f}'.format)\n",
    "\n",
    "# Eliminar columnas innecesarias\n",
    "df = df.drop(columns=['Unnamed: 15', 'Unnamed: 16', 'Time'], errors='ignore')\n",
    "\n",
    "# Eliminar filas con valores faltantes\n",
    "df_cleaned = df.dropna()\n",
    "\n",
    "# Mostrar información y primeros registros\n",
    "print(\"Tipos de datos:\")\n",
    "print(df_cleaned.dtypes)\n",
    "print(\"\\nPrimeros registros:\")\n",
    "print(df_cleaned.head())\n"
   ]
  },
  {
   "cell_type": "code",
   "execution_count": 17,
   "metadata": {},
   "outputs": [
    {
     "name": "stdout",
     "output_type": "stream",
     "text": [
      "   index\n",
      "0      1\n",
      "1      1\n",
      "2      1\n",
      "3      1\n",
      "4      1\n"
     ]
    }
   ],
   "source": [
    "import pandas as pd\n",
    "from sklearn.preprocessing import MinMaxScaler\n",
    "\n",
    "# Seleccionar las columnas relevantes de gases contaminantes\n",
    "gases_contaminantes = ['CO(GT)', 'NMHC(GT)', 'C6H6(GT)', 'NOx(GT)', 'NO2(GT)']\n",
    "\n",
    "# Convertir las columnas de gases contaminantes a tipo numérico, manejando errores\n",
    "df[gases_contaminantes] = df[gases_contaminantes].apply(pd.to_numeric, errors='coerce')\n",
    "\n",
    "# Crear un objeto MinMaxScaler\n",
    "scaler = MinMaxScaler()\n",
    "\n",
    "# Normalizar las columnas de gases contaminantes\n",
    "df[gases_contaminantes] = scaler.fit_transform(df[gases_contaminantes])\n",
    "\n",
    "# Calcular la media de los gases contaminantes para cada fila\n",
    "df['index'] = df[gases_contaminantes].mean(axis=1)\n",
    "\n",
    "# Normalizar el índice usando MinMaxScaler\n",
    "df['index'] = scaler.fit_transform(df[['index']])\n",
    "\n",
    "# Mostrar el resultado\n",
    "print(df[['index']].head())\n",
    "\n",
    "\n"
   ]
  }
 ],
 "metadata": {
  "kernelspec": {
   "display_name": "5073",
   "language": "python",
   "name": "python3"
  },
  "language_info": {
   "codemirror_mode": {
    "name": "ipython",
    "version": 3
   },
   "file_extension": ".py",
   "mimetype": "text/x-python",
   "name": "python",
   "nbconvert_exporter": "python",
   "pygments_lexer": "ipython3",
   "version": "3.12.5"
  }
 },
 "nbformat": 4,
 "nbformat_minor": 2
}
