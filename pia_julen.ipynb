{
 "cells": [
  {
   "cell_type": "code",
   "execution_count": 15,
   "metadata": {},
   "outputs": [
    {
     "name": "stdout",
     "output_type": "stream",
     "text": [
      "Tipos de datos:\n",
      "Date             datetime64[ns]\n",
      "CO(GT)                  float64\n",
      "PT08.S1(CO)               Int64\n",
      "NMHC(GT)                  Int64\n",
      "C6H6(GT)                float64\n",
      "PT08.S2(NMHC)             Int64\n",
      "NOx(GT)                   Int64\n",
      "PT08.S3(NOx)              Int64\n",
      "NO2(GT)                   Int64\n",
      "PT08.S4(NO2)              Int64\n",
      "PT08.S5(O3)               Int64\n",
      "T                       float64\n",
      "RH                      float64\n",
      "AH                      float64\n",
      "Dia                       Int64\n",
      "Mes                       Int64\n",
      "Anio                      Int64\n",
      "DiaSemana                 Int64\n",
      "PeriodoDia                Int64\n",
      "dtype: object\n",
      "\n",
      "Primeros registros:\n",
      "        Date  CO(GT)  PT08.S1(CO)  NMHC(GT)  C6H6(GT)  PT08.S2(NMHC)  NOx(GT)  \\\n",
      "0 2004-03-10       3         1360       150        12           1046      166   \n",
      "1 2004-03-10       2         1292       112         9            955      103   \n",
      "2 2004-03-10       2         1402        88         9            939      131   \n",
      "3 2004-03-10       2         1376        80         9            948      172   \n",
      "4 2004-03-10       2         1272        51         6            836      131   \n",
      "\n",
      "   PT08.S3(NOx)  NO2(GT)  PT08.S4(NO2)  PT08.S5(O3)  T  RH  AH  Dia  Mes  \\\n",
      "0          1056      113          1692         1268 14  49   1   10    3   \n",
      "1          1174       92          1559          972 13  48   1   10    3   \n",
      "2          1140      114          1555         1074 12  54   1   10    3   \n",
      "3          1092      122          1584         1203 11  60   1   10    3   \n",
      "4          1205      116          1490         1110 11  60   1   10    3   \n",
      "\n",
      "   Anio  DiaSemana  PeriodoDia  \n",
      "0  2004          2           2  \n",
      "1  2004          2           2  \n",
      "2  2004          2           2  \n",
      "3  2004          2           2  \n",
      "4  2004          2           2  \n"
     ]
    }
   ],
   "source": [
    "import pandas as pd\n",
    "\n",
    "# Cargar los datos\n",
    "df = pd.read_csv('data/AirQuality.csv', delimiter=';')\n",
    "\n",
    "# Convertir las fechas y horas\n",
    "df['Date'] = pd.to_datetime(df['Date'], format='%d/%m/%Y', errors='coerce')\n",
    "# Crear las variables derivadas de 'Date'\n",
    "df['Dia'] = df['Date'].dt.day\n",
    "df['Mes'] = df['Date'].dt.month\n",
    "df['Anio'] = df['Date'].dt.year\n",
    "\n",
    "df['Time'] = pd.to_datetime(df['Time'], format='%H.%M.%S', errors='coerce').dt.time\n",
    "\n",
    "# Mapear días de la semana a números\n",
    "df['DiaSemana'] = df['Date'].dt.day_name()\n",
    "dias_semana_map = {\n",
    "    'Monday': 0, 'Tuesday': 1, 'Wednesday': 2,\n",
    "    'Thursday': 3, 'Friday': 4, 'Saturday': 5, 'Sunday': 6\n",
    "}\n",
    "df['DiaSemana'] = df['DiaSemana'].map(dias_semana_map)\n",
    "\n",
    "# Categorizar por partes del día\n",
    "def time_to_period(hour):\n",
    "    if 6 <= hour < 12:\n",
    "        return 0 #Día\n",
    "    elif 12 <= hour < 18:\n",
    "        return 1 #Tarde\n",
    "    else:\n",
    "        return 2 #Noche\n",
    "\n",
    "df['PeriodoDia'] = df['Time'].apply(lambda t: time_to_period(t.hour) if pd.notnull(t) else None)\n",
    "\n",
    "# Reemplazar comas por puntos y convertir columnas a float\n",
    "columns_to_convert = ['CO(GT)', 'C6H6(GT)', 'T', 'RH', 'AH']\n",
    "for col in columns_to_convert:\n",
    "    df[col] = df[col].str.replace(',', '.', regex=False).astype(float)\n",
    "\n",
    "# Convertir todas las columnas numéricas a enteros si no tienen decimales\n",
    "for col in df.select_dtypes(include=['float', 'int']).columns:\n",
    "    if df[col].dropna().mod(1).eq(0).all():  # Verifica si todos los valores son enteros\n",
    "        df[col] = df[col].astype('Int64')  # Convierte a entero compatible con NaN\n",
    "\n",
    "# Configuración para que no muestre decimales en pandas\n",
    "pd.set_option('display.float_format', '{:.0f}'.format)\n",
    "\n",
    "# Eliminar columnas innecesarias\n",
    "df = df.drop(columns=['Unnamed: 15', 'Unnamed: 16', 'Time'], errors='ignore')\n",
    "\n",
    "# Eliminar filas con valores faltantes\n",
    "df_cleaned = df.dropna()\n",
    "\n",
    "# Mostrar información y primeros registros\n",
    "print(\"Tipos de datos:\")\n",
    "print(df_cleaned.dtypes)\n",
    "print(\"\\nPrimeros registros:\")\n",
    "print(df_cleaned.head())\n"
   ]
  },
  {
   "cell_type": "code",
   "execution_count": 16,
   "metadata": {},
   "outputs": [
    {
     "name": "stdout",
     "output_type": "stream",
     "text": [
      "   indeceContaminacion\n",
      "0                    1\n",
      "1                    1\n",
      "2                    1\n",
      "3                    1\n",
      "4                    1\n"
     ]
    }
   ],
   "source": [
    "from sklearn.preprocessing import MinMaxScaler\n",
    "\n",
    "# Seleccionar las columnas relevantes de gases contaminantes\n",
    "gases_contaminantes = ['CO(GT)', 'NMHC(GT)', 'C6H6(GT)', 'NOx(GT)', 'NO2(GT)']\n",
    "\n",
    "# Convertir las columnas de gases contaminantes a tipo numérico, manejando errores\n",
    "df[gases_contaminantes] = df[gases_contaminantes].apply(pd.to_numeric, errors='coerce')\n",
    "\n",
    "# Crear un objeto MinMaxScaler\n",
    "scaler = MinMaxScaler()\n",
    "\n",
    "# Normalizar las columnas de gases contaminantes\n",
    "df[gases_contaminantes] = scaler.fit_transform(df[gases_contaminantes])\n",
    "\n",
    "# Calcular la media de los gases contaminantes para cada fila\n",
    "df['indeceContaminacion'] = df[gases_contaminantes].mean(axis=1)\n",
    "\n",
    "# Normalizar el índice usando MinMaxScaler\n",
    "df['indeceContaminacion'] = scaler.fit_transform(df[['indeceContaminacion']])\n",
    "\n",
    "# Mostrar el resultado\n",
    "print(df[['indeceContaminacion']].head())"
   ]
  },
  {
   "cell_type": "code",
   "execution_count": 17,
   "metadata": {},
   "outputs": [
    {
     "name": "stdout",
     "output_type": "stream",
     "text": [
      "           Date  EstacionAnio\n",
      "0    2004-03-10             0\n",
      "1    2004-03-10             0\n",
      "2    2004-03-10             0\n",
      "3    2004-03-10             0\n",
      "4    2004-03-10             0\n",
      "...         ...           ...\n",
      "9466        NaT           NaN\n",
      "9467        NaT           NaN\n",
      "9468        NaT           NaN\n",
      "9469        NaT           NaN\n",
      "9470        NaT           NaN\n",
      "\n",
      "[9471 rows x 2 columns]\n"
     ]
    }
   ],
   "source": [
    "import pandas as pd\n",
    "from datetime import datetime\n",
    "\n",
    "# Convertir la columna Date a formato datetime\n",
    "df['Date'] = pd.to_datetime(df['Date'], format='%d/%m/%Y', errors='coerce')\n",
    "\n",
    "# Función para determinar la estación del año\n",
    "def obtener_estacion(fecha):\n",
    "    if pd.isna(fecha):\n",
    "        return None\n",
    "\n",
    "    year = fecha.year\n",
    "    # Fechas límite para las estaciones\n",
    "    invierno_inicio = datetime(year, 12, 21)\n",
    "    invierno_fin = datetime(year, 3, 20)\n",
    "    primavera_inicio = datetime(year, 3, 21)\n",
    "    primavera_fin = datetime(year, 6, 20)\n",
    "    verano_inicio = datetime(year, 6, 21)\n",
    "    verano_fin = datetime(year, 9, 23)\n",
    "    otono_inicio = datetime(year, 9, 24)\n",
    "    otono_fin = datetime(year, 12, 20)\n",
    "\n",
    "    if fecha >= invierno_inicio or fecha <= invierno_fin:\n",
    "        return 0  # Invierno\n",
    "    elif primavera_inicio <= fecha <= primavera_fin:\n",
    "        return 1  # Primavera\n",
    "    elif verano_inicio <= fecha <= verano_fin:\n",
    "        return 2  # Verano\n",
    "    elif otono_inicio <= fecha <= otono_fin:\n",
    "        return 3  # Otoño\n",
    "\n",
    "# Aplicar la función para crear la nueva columna\n",
    "df['EstacionAnio'] = df['Date'].apply(obtener_estacion)\n",
    "\n",
    "# Mostrar el resultado\n",
    "print(df[['Date', 'EstacionAnio']])"
   ]
  },
  {
   "cell_type": "code",
   "execution_count": 21,
   "metadata": {},
   "outputs": [
    {
     "name": "stdout",
     "output_type": "stream",
     "text": [
      "           Date  CO(GT)  PT08.S1(CO)  NMHC(GT)  C6H6(GT)  PT08.S2(NMHC)  \\\n",
      "0    2004-03-10       1         1360         0         1           1046   \n",
      "1    2004-03-10       1         1292         0         1            955   \n",
      "2    2004-03-10       1         1402         0         1            939   \n",
      "3    2004-03-10       1         1376         0         1            948   \n",
      "4    2004-03-10       1         1272         0         1            836   \n",
      "...         ...     ...          ...       ...       ...            ...   \n",
      "9352 2005-04-04       1         1314         0         1           1101   \n",
      "9353 2005-04-04       1         1163         0         1           1027   \n",
      "9354 2005-04-04       1         1142         0         1           1063   \n",
      "9355 2005-04-04       1         1003         0         1            961   \n",
      "9356 2005-04-04       1         1071         0         1           1047   \n",
      "\n",
      "      NOx(GT)  PT08.S3(NOx)  NO2(GT)  PT08.S4(NO2)  ...  T  RH  AH  Dia  Mes  \\\n",
      "0           0          1056        1          1692  ... 14  49   1   10    3   \n",
      "1           0          1174        1          1559  ... 13  48   1   10    3   \n",
      "2           0          1140        1          1555  ... 12  54   1   10    3   \n",
      "3           0          1092        1          1584  ... 11  60   1   10    3   \n",
      "4           0          1205        1          1490  ... 11  60   1   10    3   \n",
      "...       ...           ...      ...           ...  ... ..  ..  ..  ...  ...   \n",
      "9352        0           539        1          1374  ... 22  29   1    4    4   \n",
      "9353        0           604        1          1264  ... 24  24   1    4    4   \n",
      "9354        0           603        1          1241  ... 27  18   1    4    4   \n",
      "9355        0           702        1          1041  ... 28  14   1    4    4   \n",
      "9356        0           654        1          1129  ... 28  13   1    4    4   \n",
      "\n",
      "      Anio  DiaSemana  PeriodoDia  indeceContaminacion  EstacionAnio  \n",
      "0     2004          2           2                    1             0  \n",
      "1     2004          2           2                    1             0  \n",
      "2     2004          2           2                    1             0  \n",
      "3     2004          2           2                    1             0  \n",
      "4     2004          2           2                    1             0  \n",
      "...    ...        ...         ...                  ...           ...  \n",
      "9352  2005          0           0                    1             1  \n",
      "9353  2005          0           0                    1             1  \n",
      "9354  2005          0           1                    1             1  \n",
      "9355  2005          0           1                    1             1  \n",
      "9356  2005          0           1                    1             1  \n",
      "\n",
      "[9357 rows x 21 columns]\n"
     ]
    }
   ],
   "source": [
    "# Eliminar filas con valores faltantes\n",
    "df_cleaned = df.dropna()\n",
    "\n",
    "# Verificar el DataFrame limpio\n",
    "print(df_cleaned)"
   ]
  },
  {
   "cell_type": "code",
   "execution_count": 19,
   "metadata": {},
   "outputs": [],
   "source": [
    "# Supress Warnings\n",
    "import warnings\n",
    "warnings.filterwarnings('ignore')\n",
    "\n",
    "import pandas as pd\n",
    "import matplotlib.pyplot as plt\n",
    "import numpy as np\n",
    "import seaborn as sns\n"
   ]
  },
  {
   "cell_type": "code",
   "execution_count": 24,
   "metadata": {},
   "outputs": [],
   "source": [
    "# Separamos la columna \"species\", que contiene la especie de pez, del resto de columnas.\n",
    "estaciones = df_cleaned.iloc[\":,0\"]\n",
    "# Aquí almacenamos el resto de features, con las que entrenaremos los diferentes modelos.\n",
    "estaciones = df_cleaned.iloc[:,1:]"
   ]
  },
  {
   "cell_type": "code",
   "execution_count": 26,
   "metadata": {},
   "outputs": [
    {
     "data": {
      "image/png": "[encoded data removed]",
      "text/plain": [
       "<Figure size 640x480 with 1 Axes>"
      ]
     },
     "metadata": {},
     "output_type": "display_data"
    }
   ],
   "source": [
    "from sklearn.cluster import KMeans\n",
    "\n",
    "# Calculamos la incercia para clusters de 1 a 10.\n",
    "inercia= []\n",
    "for i in range(1, 11):\n",
    "    kmeans = KMeans(n_clusters = i, init = 'k-means++', max_iter = 300, n_init = 100, random_state = 0)\n",
    "    kmeans.fit(estaciones)\n",
    "    inercia.append(kmeans.inertia_)\n",
    "\n",
    "plt.plot(range(1, 11), inercia)\n",
    "plt.xlabel('# Clusters')\n",
    "plt.ylabel('Inercia')\n",
    "plt.show()"
   ]
  },
  {
   "cell_type": "code",
   "execution_count": 28,
   "metadata": {},
   "outputs": [
    {
     "name": "stdout",
     "output_type": "stream",
     "text": [
      "Labels:  [0 0 0 ... 0 0 0]\n",
      "Centroides:  [[ 7.88148388e-01  9.91722101e+02]\n",
      " [ 7.51474440e-01  6.86934595e+02]\n",
      " [ 8.62346142e-01 -2.00000000e+02]\n",
      " [ 8.17373455e-01  1.34904478e+03]]\n"
     ]
    },
    {
     "data": {
      "image/png": "[encoded data removed]",
      "text/plain": [
       "<Figure size 640x480 with 1 Axes>"
      ]
     },
     "metadata": {},
     "output_type": "display_data"
    }
   ],
   "source": [
    "# Seleccionamos las variables weight y height.\n",
    "estacionesWeightHeight = estaciones.iloc[:, [0, 4]].values\n",
    "\n",
    "kmeans = KMeans(n_clusters=4, init = 'k-means++', max_iter = 100, n_init = 1) #Applying Kmeans classifier\n",
    "kmeans = kmeans.fit(estacionesWeightHeight)\n",
    "\n",
    "print('Labels: ', kmeans.labels_)\n",
    "print('Centroides: ', kmeans.cluster_centers_)\n",
    "\n",
    "# Visualizamos el resultado asignando a cada punto el valor de y_kmeans.\n",
    "y_kmeans=kmeans.labels_\n",
    "plt.scatter(estacionesWeightHeight[y_kmeans == 0, 0], estacionesWeightHeight[y_kmeans == 0, 1],s = 100, label = 'Cluster 0', alpha=0.5)\n",
    "plt.scatter(estacionesWeightHeight[y_kmeans == 1, 0], estacionesWeightHeight[y_kmeans == 1, 1],s = 100, label = 'Cluster 1', alpha=0.5)\n",
    "plt.scatter(estacionesWeightHeight[y_kmeans == 2, 0], estacionesWeightHeight[y_kmeans == 2, 1],s = 100, label = 'Cluster 2', alpha=0.5)\n",
    "plt.scatter(estacionesWeightHeight[y_kmeans == 3, 0], estacionesWeightHeight[y_kmeans == 3, 1],s = 100, label = 'Cluster 3', alpha=0.5)\n",
    "plt.scatter(kmeans.cluster_centers_[:,   0], kmeans.cluster_centers_[:,1], marker='*',s = 200, c = 'black',\n",
    "            edgecolor='black', label = 'Centroids')   #plotting the centroids of the clusters\n",
    "plt.legend()\n",
    "plt.show()"
   ]
  }
 ],
 "metadata": {
  "kernelspec": {
   "display_name": "Python 3",
   "language": "python",
   "name": "python3"
  },
  "language_info": {
   "codemirror_mode": {
    "name": "ipython",
    "version": 3
   },
   "file_extension": ".py",
   "mimetype": "text/x-python",
   "name": "python",
   "nbconvert_exporter": "python",
   "pygments_lexer": "ipython3",
   "version": "3.12.6"
  }
 },
 "nbformat": 4,
 "nbformat_minor": 2
}
